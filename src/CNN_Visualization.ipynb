{
 "cells": [
  {
   "cell_type": "code",
   "execution_count": 1,
   "metadata": {},
   "outputs": [
    {
     "name": "stderr",
     "output_type": "stream",
     "text": [
      "Using TensorFlow backend.\n"
     ]
    }
   ],
   "source": [
    "import numpy as np\n",
    "import matplotlib.pyplot as plt\n",
    "from sklearn.model_selection import train_test_split\n",
    "import keras\n",
    "from keras.datasets import mnist\n",
    "from keras.models import Sequential\n",
    "from keras.layers import Dense, Dropout, Flatten\n",
    "from keras.layers import Conv2D, MaxPooling2D\n",
    "from keras.optimizers import Adam\n",
    "from keras.callbacks import EarlyStopping, ModelCheckpoint"
   ]
  },
  {
   "cell_type": "code",
   "execution_count": 3,
   "metadata": {},
   "outputs": [],
   "source": [
    "batch_size = 128\n",
    "num_classes = 10\n",
    "epochs = 20"
   ]
  },
  {
   "cell_type": "code",
   "execution_count": 4,
   "metadata": {},
   "outputs": [],
   "source": [
    "(x_train, y_train), (x_test, y_test) = mnist.load_data()\n",
    "x_train, x_valid, y_train, y_valid = train_test_split(x_train, y_train, test_size=0.2)"
   ]
  },
  {
   "cell_type": "code",
   "execution_count": 5,
   "metadata": {},
   "outputs": [],
   "source": [
    "x_train = x_train.reshape(x_train.shape[0], 28, 28, 1)\n",
    "x_valid = x_valid.reshape(x_valid.shape[0], 28, 28, 1)\n",
    "x_test = x_test.reshape(x_test.shape[0], 28, 28, 1)\n",
    "x_train = x_train.astype('float32')\n",
    "x_valid = x_valid.astype('float32')\n",
    "x_test = x_test.astype('float32')\n",
    "x_train /= 255\n",
    "x_valid /= 255\n",
    "x_test /= 255"
   ]
  },
  {
   "cell_type": "code",
   "execution_count": 6,
   "metadata": {},
   "outputs": [],
   "source": [
    "y_train = keras.utils.to_categorical(y_train, num_classes)\n",
    "y_valid = keras.utils.to_categorical(y_valid, num_classes)\n",
    "y_test = keras.utils.to_categorical(y_test, num_classes)"
   ]
  },
  {
   "cell_type": "code",
   "execution_count": 7,
   "metadata": {},
   "outputs": [],
   "source": [
    "model = Sequential()\n",
    "model.add(Conv2D(32, kernel_size=(3,3), activation='relu', input_shape=(28, 28, 1)))\n",
    "model.add(Conv2D(64, (3, 3), activation='relu'))\n",
    "model.add(MaxPooling2D(pool_size=(2, 2)))\n",
    "model.add(Flatten())\n",
    "model.add(Dense(128, activation='relu'))\n",
    "model.add(Dense(10, activation='softmax'))\n",
    "model.compile(loss='categorical_crossentropy',\n",
    "             optimizer=Adam(),\n",
    "             metrics=['accuracy'])"
   ]
  },
  {
   "cell_type": "code",
   "execution_count": 75,
   "metadata": {},
   "outputs": [
    {
     "name": "stdout",
     "output_type": "stream",
     "text": [
      "Train on 48000 samples, validate on 12000 samples\n",
      "Epoch 1/20\n",
      "47872/48000 [============================>.] - ETA: 0s - loss: 0.1790 - acc: 0.9471Epoch 00000: val_loss improved from inf to 0.05810, saving model to weights.hdf5\n",
      "48000/48000 [==============================] - 214s - loss: 0.1787 - acc: 0.9472 - val_loss: 0.0581 - val_acc: 0.9842\n",
      "Epoch 2/20\n",
      "47872/48000 [============================>.] - ETA: 0s - loss: 0.0493 - acc: 0.9848Epoch 00001: val_loss improved from 0.05810 to 0.04594, saving model to weights.hdf5\n",
      "48000/48000 [==============================] - 219s - loss: 0.0493 - acc: 0.9849 - val_loss: 0.0459 - val_acc: 0.9857\n",
      "Epoch 3/20\n",
      "47872/48000 [============================>.] - ETA: 0s - loss: 0.0306 - acc: 0.9902Epoch 00002: val_loss improved from 0.04594 to 0.04459, saving model to weights.hdf5\n",
      "48000/48000 [==============================] - 222s - loss: 0.0306 - acc: 0.9902 - val_loss: 0.0446 - val_acc: 0.9868\n",
      "Epoch 4/20\n",
      "47872/48000 [============================>.] - ETA: 0s - loss: 0.0203 - acc: 0.9933Epoch 00003: val_loss improved from 0.04459 to 0.03677, saving model to weights.hdf5\n",
      "48000/48000 [==============================] - 224s - loss: 0.0204 - acc: 0.9933 - val_loss: 0.0368 - val_acc: 0.9884\n",
      "Epoch 5/20\n",
      "47872/48000 [============================>.] - ETA: 0s - loss: 0.0129 - acc: 0.9958Epoch 00004: val_loss did not improve\n",
      "48000/48000 [==============================] - 224s - loss: 0.0129 - acc: 0.9958 - val_loss: 0.0406 - val_acc: 0.9891\n",
      "Epoch 6/20\n",
      "47872/48000 [============================>.] - ETA: 0s - loss: 0.0115 - acc: 0.9963Epoch 00005: val_loss did not improve\n",
      "48000/48000 [==============================] - 223s - loss: 0.0114 - acc: 0.9963 - val_loss: 0.0397 - val_acc: 0.9883\n",
      "Epoch 00005: early stopping\n"
     ]
    },
    {
     "data": {
      "text/plain": [
       "<keras.callbacks.History at 0x1c6a6aa42e8>"
      ]
     },
     "execution_count": 75,
     "metadata": {},
     "output_type": "execute_result"
    }
   ],
   "source": [
    "early_stopping = EarlyStopping(monitor='val_loss', patience=1, verbose=1)\n",
    "checkpoint = ModelCheckpoint('weights.hdf5', verbose=1, save_best_only=True)\n",
    "\n",
    "model.fit(x_train, y_train, batch_size = batch_size, epochs=epochs, validation_data=(x_valid, y_valid),\n",
    "         callbacks=[early_stopping, checkpoint])"
   ]
  },
  {
   "cell_type": "code",
   "execution_count": 8,
   "metadata": {
    "scrolled": true
   },
   "outputs": [
    {
     "name": "stdout",
     "output_type": "stream",
     "text": [
      " 9984/10000 [============================>.] - ETA: 0sTest loss: 0.0378945280337\n",
      "Test accuracy: 0.9873\n"
     ]
    }
   ],
   "source": [
    "model.load_weights('weights.hdf5')\n",
    "score = model.evaluate(x_test, y_test)\n",
    "print('Test loss:', score[0])\n",
    "print('Test accuracy:', score[1])"
   ]
  },
  {
   "cell_type": "code",
   "execution_count": 30,
   "metadata": {},
   "outputs": [],
   "source": [
    "from vis.visualization import visualize_activation, overlay\n",
    "from vis.utils import utils\n",
    "from keras import activations\n",
    "\n",
    "from matplotlib import pyplot as plt\n",
    "%matplotlib inline"
   ]
  },
  {
   "cell_type": "code",
   "execution_count": 31,
   "metadata": {},
   "outputs": [
    {
     "data": {
      "text/plain": [
       "<matplotlib.image.AxesImage at 0x1e8a5cd73c8>"
      ]
     },
     "execution_count": 31,
     "metadata": {},
     "output_type": "execute_result"
    },
    {
     "data": {
      "image/png": "[encoded data removed]",
      "text/plain": [
       "<matplotlib.figure.Figure at 0x1e8a503e1d0>"
      ]
     },
     "metadata": {},
     "output_type": "display_data"
    }
   ],
   "source": [
    "plt.rcParams['figure.figsize'] = (18, 6)\n",
    "layer_idx = -1\n",
    "model.layers[layer_idx].activation = activations.linear\n",
    "model = utils.apply_modifications(model)\n",
    "\n",
    "filter_idx = 0\n",
    "img = visualize_activation(model, layer_idx, filter_indices=filter_idx)\n",
    "plt.imshow(img[..., 0])"
   ]
  },
  {
   "cell_type": "code",
   "execution_count": 88,
   "metadata": {},
   "outputs": [
    {
     "data": {
      "text/plain": [
       "<matplotlib.image.AxesImage at 0x1e8c032aef0>"
      ]
     },
     "execution_count": 88,
     "metadata": {},
     "output_type": "execute_result"
    },
    {
     "data": {
      "image/png": "[encoded data removed]",
      "text/plain": [
       "<matplotlib.figure.Figure at 0x1e8bbef3dd8>"
      ]
     },
     "metadata": {},
     "output_type": "display_data"
    }
   ],
   "source": [
    "img = visualize_activation(model, layer_idx, filter_indices=filter_idx, input_range=(0., 1.))\n",
    "plt.imshow(overlay(img[..., 0],x_test[np.argmax(y_test, axis=1)==0][0].reshape(28,28)))"
   ]
  },
  {
   "cell_type": "code",
   "execution_count": 21,
   "metadata": {},
   "outputs": [
    {
     "name": "stdout",
     "output_type": "stream",
     "text": [
      "Iteration: 1, named_losses: <zip object at 0x000001E89A817B48>, overall loss: 0.7484550476074219\n",
      "Iteration: 2, named_losses: <zip object at 0x000001E89E76FE08>, overall loss: 534.2507934570312\n",
      "Iteration: 3, named_losses: <zip object at 0x000001E89D0ACF08>, overall loss: 18.616226196289062\n",
      "Iteration: 4, named_losses: <zip object at 0x000001E89A817B48>, overall loss: -49.46513366699219\n",
      "Iteration: 5, named_losses: <zip object at 0x000001E89E76FE08>, overall loss: -127.48297119140625\n",
      "Iteration: 6, named_losses: <zip object at 0x000001E89D0ACF08>, overall loss: -205.36264038085938\n",
      "Iteration: 7, named_losses: <zip object at 0x000001E89A817B48>, overall loss: -273.89752197265625\n",
      "Iteration: 8, named_losses: <zip object at 0x000001E89E76FE08>, overall loss: -317.476806640625\n",
      "Iteration: 9, named_losses: <zip object at 0x000001E89D0ACF08>, overall loss: -356.70147705078125\n",
      "Iteration: 10, named_losses: <zip object at 0x000001E89A817B48>, overall loss: -384.7062072753906\n",
      "Iteration: 11, named_losses: <zip object at 0x000001E89E76FE08>, overall loss: -415.3497619628906\n",
      "Iteration: 12, named_losses: <zip object at 0x000001E89D0ACF08>, overall loss: -437.5563659667969\n",
      "Iteration: 13, named_losses: <zip object at 0x000001E89A817B48>, overall loss: -461.159912109375\n",
      "Iteration: 14, named_losses: <zip object at 0x000001E89E76FE08>, overall loss: -481.7093811035156\n",
      "Iteration: 15, named_losses: <zip object at 0x000001E89D0ACF08>, overall loss: -502.5776672363281\n",
      "Iteration: 16, named_losses: <zip object at 0x000001E89A817B48>, overall loss: -519.0140380859375\n",
      "Iteration: 17, named_losses: <zip object at 0x000001E89E76FE08>, overall loss: -538.341552734375\n",
      "Iteration: 18, named_losses: <zip object at 0x000001E89D0ACF08>, overall loss: -549.0621337890625\n",
      "Iteration: 19, named_losses: <zip object at 0x000001E89A817B48>, overall loss: -563.3212890625\n",
      "Iteration: 20, named_losses: <zip object at 0x000001E89E76FE08>, overall loss: -573.4773559570312\n",
      "Iteration: 21, named_losses: <zip object at 0x000001E89D0ACF08>, overall loss: -585.0936279296875\n",
      "Iteration: 22, named_losses: <zip object at 0x000001E89A817B48>, overall loss: -597.1988525390625\n",
      "Iteration: 23, named_losses: <zip object at 0x000001E89E76FE08>, overall loss: -603.3619995117188\n",
      "Iteration: 24, named_losses: <zip object at 0x000001E89D0ACF08>, overall loss: -613.0784301757812\n",
      "Iteration: 25, named_losses: <zip object at 0x000001E89A817B48>, overall loss: -619.4656982421875\n",
      "Iteration: 26, named_losses: <zip object at 0x000001E89E76FE08>, overall loss: -629.8718872070312\n",
      "Iteration: 27, named_losses: <zip object at 0x000001E89D0ACF08>, overall loss: -637.36767578125\n",
      "Iteration: 28, named_losses: <zip object at 0x000001E89A817B48>, overall loss: -647.6182861328125\n",
      "Iteration: 29, named_losses: <zip object at 0x000001E89E76FE08>, overall loss: -652.8873291015625\n",
      "Iteration: 30, named_losses: <zip object at 0x000001E89D0ACF08>, overall loss: -657.371826171875\n",
      "Iteration: 31, named_losses: <zip object at 0x000001E89A817B48>, overall loss: -661.210205078125\n",
      "Iteration: 32, named_losses: <zip object at 0x000001E89E76FE08>, overall loss: -664.9586791992188\n",
      "Iteration: 33, named_losses: <zip object at 0x000001E89D0ACF08>, overall loss: -667.7349243164062\n",
      "Iteration: 34, named_losses: <zip object at 0x000001E89A817B48>, overall loss: -670.97998046875\n",
      "Iteration: 35, named_losses: <zip object at 0x000001E89E76FE08>, overall loss: -673.3374633789062\n",
      "Iteration: 36, named_losses: <zip object at 0x000001E89D0ACF08>, overall loss: -675.3161010742188\n",
      "Iteration: 37, named_losses: <zip object at 0x000001E89A817B48>, overall loss: -678.3135986328125\n",
      "Iteration: 38, named_losses: <zip object at 0x000001E89E76FE08>, overall loss: -679.4920043945312\n",
      "Iteration: 39, named_losses: <zip object at 0x000001E89D0ACF08>, overall loss: -682.4224243164062\n",
      "Iteration: 40, named_losses: <zip object at 0x000001E89A817B48>, overall loss: -682.987060546875\n",
      "Iteration: 41, named_losses: <zip object at 0x000001E89E76FE08>, overall loss: -686.7564697265625\n",
      "Iteration: 42, named_losses: <zip object at 0x000001E89D0ACF08>, overall loss: -689.260498046875\n",
      "Iteration: 43, named_losses: <zip object at 0x000001E89A817B48>, overall loss: -693.7435302734375\n",
      "Iteration: 44, named_losses: <zip object at 0x000001E89D0ACF08>, overall loss: -694.3739013671875\n",
      "Iteration: 45, named_losses: <zip object at 0x000001E89E7C0248>, overall loss: -699.6839599609375\n",
      "Iteration: 46, named_losses: <zip object at 0x000001E89A817B48>, overall loss: -698.2908935546875\n",
      "Iteration: 47, named_losses: <zip object at 0x000001E89E7C0988>, overall loss: -704.8319091796875\n",
      "Iteration: 48, named_losses: <zip object at 0x000001E89E7C0248>, overall loss: -701.954833984375\n",
      "Iteration: 49, named_losses: <zip object at 0x000001E89D0ACF08>, overall loss: -707.2930297851562\n",
      "Iteration: 50, named_losses: <zip object at 0x000001E89E7C0988>, overall loss: -704.7294311523438\n",
      "Iteration: 51, named_losses: <zip object at 0x000001E89A817B48>, overall loss: -708.5020751953125\n",
      "Iteration: 52, named_losses: <zip object at 0x000001E89D0ACF08>, overall loss: -705.322265625\n",
      "Iteration: 53, named_losses: <zip object at 0x000001E89E7C0988>, overall loss: -709.6641235351562\n",
      "Iteration: 54, named_losses: <zip object at 0x000001E89A817B48>, overall loss: -706.53369140625\n",
      "Iteration: 55, named_losses: <zip object at 0x000001E89D0ACF08>, overall loss: -711.4067993164062\n",
      "Iteration: 56, named_losses: <zip object at 0x000001E89E7C0988>, overall loss: -709.5401000976562\n",
      "Iteration: 57, named_losses: <zip object at 0x000001E89A817B48>, overall loss: -711.8238525390625\n",
      "Iteration: 58, named_losses: <zip object at 0x000001E89D0ACF08>, overall loss: -710.2516479492188\n",
      "Iteration: 59, named_losses: <zip object at 0x000001E89E7C0988>, overall loss: -713.3587646484375\n",
      "Iteration: 60, named_losses: <zip object at 0x000001E89A817B48>, overall loss: -711.501220703125\n",
      "Iteration: 61, named_losses: <zip object at 0x000001E89D0ACF08>, overall loss: -714.2647705078125\n",
      "Iteration: 62, named_losses: <zip object at 0x000001E89E7C0988>, overall loss: -712.64501953125\n",
      "Iteration: 63, named_losses: <zip object at 0x000001E89A817B48>, overall loss: -714.4378662109375\n",
      "Iteration: 64, named_losses: <zip object at 0x000001E89D0ACF08>, overall loss: -713.4876708984375\n",
      "Iteration: 65, named_losses: <zip object at 0x000001E89E7C0988>, overall loss: -715.5372314453125\n",
      "Iteration: 66, named_losses: <zip object at 0x000001E89A817B48>, overall loss: -714.9722290039062\n",
      "Iteration: 67, named_losses: <zip object at 0x000001E89D0ACF08>, overall loss: -716.3016357421875\n",
      "Iteration: 68, named_losses: <zip object at 0x000001E89E7C0988>, overall loss: -715.3461303710938\n",
      "Iteration: 69, named_losses: <zip object at 0x000001E89A817B48>, overall loss: -715.8453369140625\n",
      "Iteration: 70, named_losses: <zip object at 0x000001E89D0ACF08>, overall loss: -715.2515869140625\n",
      "Iteration: 71, named_losses: <zip object at 0x000001E89E7C0988>, overall loss: -716.0762939453125\n",
      "Iteration: 72, named_losses: <zip object at 0x000001E89A817B48>, overall loss: -715.0536499023438\n",
      "Iteration: 73, named_losses: <zip object at 0x000001E89D0ACF08>, overall loss: -716.7207641601562\n",
      "Iteration: 74, named_losses: <zip object at 0x000001E89E7C0988>, overall loss: -716.5593872070312\n",
      "Iteration: 75, named_losses: <zip object at 0x000001E89A817B48>, overall loss: -718.4701538085938\n",
      "Iteration: 76, named_losses: <zip object at 0x000001E89D0ACF08>, overall loss: -718.1827392578125\n",
      "Iteration: 77, named_losses: <zip object at 0x000001E89E7C0988>, overall loss: -719.2534790039062\n",
      "Iteration: 78, named_losses: <zip object at 0x000001E89A817B48>, overall loss: -718.4322509765625\n",
      "Iteration: 79, named_losses: <zip object at 0x000001E89D0ACF08>, overall loss: -719.9920654296875\n",
      "Iteration: 80, named_losses: <zip object at 0x000001E89E7C0988>, overall loss: -719.2899169921875\n",
      "Iteration: 81, named_losses: <zip object at 0x000001E89A817B48>, overall loss: -719.9716796875\n",
      "Iteration: 82, named_losses: <zip object at 0x000001E89D0ACF08>, overall loss: -719.47119140625\n",
      "Iteration: 83, named_losses: <zip object at 0x000001E89E7C0988>, overall loss: -721.0491333007812\n",
      "Iteration: 84, named_losses: <zip object at 0x000001E89A817B48>, overall loss: -720.3907470703125\n",
      "Iteration: 85, named_losses: <zip object at 0x000001E89E76FE08>, overall loss: -721.09228515625\n",
      "Iteration: 86, named_losses: <zip object at 0x000001E88FA0AA48>, overall loss: -720.5179443359375\n",
      "Iteration: 87, named_losses: <zip object at 0x000001E89A817B48>, overall loss: -721.8737182617188\n",
      "Iteration: 88, named_losses: <zip object at 0x000001E89E76FE08>, overall loss: -721.7369384765625\n",
      "Iteration: 89, named_losses: <zip object at 0x000001E88FA0AA48>, overall loss: -722.1190185546875\n",
      "Iteration: 90, named_losses: <zip object at 0x000001E89A817B48>, overall loss: -721.6949462890625\n",
      "Iteration: 91, named_losses: <zip object at 0x000001E89E76FE08>, overall loss: -722.518310546875\n",
      "Iteration: 92, named_losses: <zip object at 0x000001E88FA0AA48>, overall loss: -722.566650390625\n",
      "Iteration: 93, named_losses: <zip object at 0x000001E89A817B48>, overall loss: -721.7846069335938\n",
      "Iteration: 94, named_losses: <zip object at 0x000001E89E76FE08>, overall loss: -722.8248291015625\n",
      "Iteration: 95, named_losses: <zip object at 0x000001E88FA0AA48>, overall loss: -721.7411499023438\n",
      "Iteration: 96, named_losses: <zip object at 0x000001E89A817B48>, overall loss: -723.2500610351562\n",
      "Iteration: 97, named_losses: <zip object at 0x000001E89E76FE08>, overall loss: -721.51123046875\n",
      "Iteration: 98, named_losses: <zip object at 0x000001E88FA0AA48>, overall loss: -724.1009521484375\n",
      "Iteration: 99, named_losses: <zip object at 0x000001E89A817B48>, overall loss: -721.9732666015625\n",
      "Iteration: 100, named_losses: <zip object at 0x000001E89E76FE08>, overall loss: -724.71435546875\n",
      "Iteration: 101, named_losses: <zip object at 0x000001E88FA0AA48>, overall loss: -721.9611206054688\n",
      "Iteration: 102, named_losses: <zip object at 0x000001E89A817B48>, overall loss: -724.3094482421875\n",
      "Iteration: 103, named_losses: <zip object at 0x000001E89E76FE08>, overall loss: -721.61328125\n",
      "Iteration: 104, named_losses: <zip object at 0x000001E88FA0AA48>, overall loss: -724.4013061523438\n",
      "Iteration: 105, named_losses: <zip object at 0x000001E89A817B48>, overall loss: -722.5231323242188\n",
      "Iteration: 106, named_losses: <zip object at 0x000001E89E76FE08>, overall loss: -725.8732299804688\n",
      "Iteration: 107, named_losses: <zip object at 0x000001E88FA0AA48>, overall loss: -721.525634765625\n",
      "Iteration: 108, named_losses: <zip object at 0x000001E89A817B48>, overall loss: -725.3582763671875\n",
      "Iteration: 109, named_losses: <zip object at 0x000001E89E76FE08>, overall loss: -721.82080078125\n",
      "Iteration: 110, named_losses: <zip object at 0x000001E88FA0AA48>, overall loss: -725.678466796875\n",
      "Iteration: 111, named_losses: <zip object at 0x000001E89A817B48>, overall loss: -722.51220703125\n",
      "Iteration: 112, named_losses: <zip object at 0x000001E89E76FE08>, overall loss: -725.7882080078125\n",
      "Iteration: 113, named_losses: <zip object at 0x000001E88FA0AA48>, overall loss: -722.64990234375\n",
      "Iteration: 114, named_losses: <zip object at 0x000001E89A817B48>, overall loss: -726.206787109375\n",
      "Iteration: 115, named_losses: <zip object at 0x000001E89E76FE08>, overall loss: -722.1356201171875\n",
      "Iteration: 116, named_losses: <zip object at 0x000001E88FA0AA48>, overall loss: -726.734619140625\n",
      "Iteration: 117, named_losses: <zip object at 0x000001E89A817B48>, overall loss: -722.8395385742188\n",
      "Iteration: 118, named_losses: <zip object at 0x000001E89E76FE08>, overall loss: -726.6986083984375\n",
      "Iteration: 119, named_losses: <zip object at 0x000001E88FA0AA48>, overall loss: -721.9234619140625\n",
      "Iteration: 120, named_losses: <zip object at 0x000001E89A817B48>, overall loss: -727.0529174804688\n",
      "Iteration: 121, named_losses: <zip object at 0x000001E89E76FE08>, overall loss: -722.5894165039062\n"
     ]
    },
    {
     "name": "stdout",
     "output_type": "stream",
     "text": [
      "Iteration: 122, named_losses: <zip object at 0x000001E88FA0AA48>, overall loss: -727.5543823242188\n",
      "Iteration: 123, named_losses: <zip object at 0x000001E89D0ACEC8>, overall loss: -722.2567749023438\n",
      "Iteration: 124, named_losses: <zip object at 0x000001E89E7C0988>, overall loss: -727.6338500976562\n",
      "Iteration: 125, named_losses: <zip object at 0x000001E88FA0AA48>, overall loss: -722.430908203125\n",
      "Iteration: 126, named_losses: <zip object at 0x000001E89E7C0948>, overall loss: -727.8079833984375\n",
      "Iteration: 127, named_losses: <zip object at 0x000001E89E7C0988>, overall loss: -722.765380859375\n",
      "Iteration: 128, named_losses: <zip object at 0x000001E88FA0AA48>, overall loss: -728.3928833007812\n",
      "Iteration: 129, named_losses: <zip object at 0x000001E89E7C0948>, overall loss: -722.956298828125\n",
      "Iteration: 130, named_losses: <zip object at 0x000001E89D0ACEC8>, overall loss: -728.273681640625\n",
      "Iteration: 131, named_losses: <zip object at 0x000001E88FA0AA48>, overall loss: -723.018310546875\n",
      "Iteration: 132, named_losses: <zip object at 0x000001E89E7C0948>, overall loss: -728.2196044921875\n",
      "Iteration: 133, named_losses: <zip object at 0x000001E89D0ACEC8>, overall loss: -723.243408203125\n",
      "Iteration: 134, named_losses: <zip object at 0x000001E88FA0AA48>, overall loss: -727.97705078125\n",
      "Iteration: 135, named_losses: <zip object at 0x000001E89E7C0948>, overall loss: -723.5814819335938\n",
      "Iteration: 136, named_losses: <zip object at 0x000001E89D0ACEC8>, overall loss: -727.7347412109375\n",
      "Iteration: 137, named_losses: <zip object at 0x000001E88FA0AA48>, overall loss: -723.1785888671875\n",
      "Iteration: 138, named_losses: <zip object at 0x000001E89E7C0948>, overall loss: -727.6500244140625\n",
      "Iteration: 139, named_losses: <zip object at 0x000001E89D0ACEC8>, overall loss: -723.3018798828125\n",
      "Iteration: 140, named_losses: <zip object at 0x000001E88FA0AA48>, overall loss: -727.9406127929688\n",
      "Iteration: 141, named_losses: <zip object at 0x000001E89E7C0948>, overall loss: -723.45654296875\n",
      "Iteration: 142, named_losses: <zip object at 0x000001E89D0ACEC8>, overall loss: -728.3604736328125\n",
      "Iteration: 143, named_losses: <zip object at 0x000001E88FA0AA48>, overall loss: -722.6259765625\n",
      "Iteration: 144, named_losses: <zip object at 0x000001E89E7C0948>, overall loss: -729.2752685546875\n",
      "Iteration: 145, named_losses: <zip object at 0x000001E89D0ACEC8>, overall loss: -723.0166625976562\n",
      "Iteration: 146, named_losses: <zip object at 0x000001E88FA0AA48>, overall loss: -729.4512939453125\n",
      "Iteration: 147, named_losses: <zip object at 0x000001E89E7C0948>, overall loss: -722.9466552734375\n",
      "Iteration: 148, named_losses: <zip object at 0x000001E89D0ACEC8>, overall loss: -729.6121826171875\n",
      "Iteration: 149, named_losses: <zip object at 0x000001E88FA0AA48>, overall loss: -723.0140991210938\n",
      "Iteration: 150, named_losses: <zip object at 0x000001E89E7C0948>, overall loss: -729.213623046875\n",
      "Iteration: 151, named_losses: <zip object at 0x000001E89D0ACEC8>, overall loss: -722.517333984375\n",
      "Iteration: 152, named_losses: <zip object at 0x000001E88FA0AA48>, overall loss: -728.1345825195312\n",
      "Iteration: 153, named_losses: <zip object at 0x000001E89E7C0948>, overall loss: -722.787841796875\n",
      "Iteration: 154, named_losses: <zip object at 0x000001E89D0ACEC8>, overall loss: -728.808837890625\n",
      "Iteration: 155, named_losses: <zip object at 0x000001E88FA0AA48>, overall loss: -723.672607421875\n",
      "Iteration: 156, named_losses: <zip object at 0x000001E89E7C0948>, overall loss: -728.7908325195312\n",
      "Iteration: 157, named_losses: <zip object at 0x000001E89D0ACEC8>, overall loss: -724.0660400390625\n",
      "Iteration: 158, named_losses: <zip object at 0x000001E88FA0AA48>, overall loss: -728.1966552734375\n",
      "Iteration: 159, named_losses: <zip object at 0x000001E89E7C0948>, overall loss: -723.617919921875\n",
      "Iteration: 160, named_losses: <zip object at 0x000001E89D0ACEC8>, overall loss: -728.3033447265625\n",
      "Iteration: 161, named_losses: <zip object at 0x000001E88FA0AA48>, overall loss: -723.7379150390625\n",
      "Iteration: 162, named_losses: <zip object at 0x000001E89E7AE1C8>, overall loss: -727.8217163085938\n",
      "Iteration: 163, named_losses: <zip object at 0x000001E89E7C0248>, overall loss: -723.8846435546875\n",
      "Iteration: 164, named_losses: <zip object at 0x000001E88FA0AA48>, overall loss: -728.7675170898438\n",
      "Iteration: 165, named_losses: <zip object at 0x000001E89E7AE1C8>, overall loss: -724.40966796875\n",
      "Iteration: 166, named_losses: <zip object at 0x000001E89E7C0948>, overall loss: -729.02734375\n",
      "Iteration: 167, named_losses: <zip object at 0x000001E88FA0AA48>, overall loss: -724.894775390625\n",
      "Iteration: 168, named_losses: <zip object at 0x000001E89E7AE1C8>, overall loss: -728.6881103515625\n",
      "Iteration: 169, named_losses: <zip object at 0x000001E89E7C0948>, overall loss: -724.7732543945312\n",
      "Iteration: 170, named_losses: <zip object at 0x000001E88FA0AA48>, overall loss: -728.52294921875\n",
      "Iteration: 171, named_losses: <zip object at 0x000001E89E7AE1C8>, overall loss: -724.6529541015625\n",
      "Iteration: 172, named_losses: <zip object at 0x000001E89E7C0948>, overall loss: -727.899658203125\n",
      "Iteration: 173, named_losses: <zip object at 0x000001E88FA0AA48>, overall loss: -724.4384765625\n",
      "Iteration: 174, named_losses: <zip object at 0x000001E89E7AE1C8>, overall loss: -728.176025390625\n",
      "Iteration: 175, named_losses: <zip object at 0x000001E89E7C0948>, overall loss: -724.39697265625\n",
      "Iteration: 176, named_losses: <zip object at 0x000001E88FA0AA48>, overall loss: -728.70263671875\n",
      "Iteration: 177, named_losses: <zip object at 0x000001E89E7AE1C8>, overall loss: -725.0075073242188\n",
      "Iteration: 178, named_losses: <zip object at 0x000001E89E7C0948>, overall loss: -728.4439697265625\n",
      "Iteration: 179, named_losses: <zip object at 0x000001E88FA0AA48>, overall loss: -724.74853515625\n",
      "Iteration: 180, named_losses: <zip object at 0x000001E89E7AE1C8>, overall loss: -728.91796875\n",
      "Iteration: 181, named_losses: <zip object at 0x000001E89E7C0948>, overall loss: -725.3397216796875\n",
      "Iteration: 182, named_losses: <zip object at 0x000001E88FA0AA48>, overall loss: -730.0043334960938\n",
      "Iteration: 183, named_losses: <zip object at 0x000001E89E7AE1C8>, overall loss: -725.3089599609375\n",
      "Iteration: 184, named_losses: <zip object at 0x000001E89E7C0948>, overall loss: -730.1874389648438\n",
      "Iteration: 185, named_losses: <zip object at 0x000001E88FA0AA48>, overall loss: -725.1307373046875\n",
      "Iteration: 186, named_losses: <zip object at 0x000001E89E7AE1C8>, overall loss: -730.7283935546875\n",
      "Iteration: 187, named_losses: <zip object at 0x000001E89E7C0948>, overall loss: -726.2050170898438\n",
      "Iteration: 188, named_losses: <zip object at 0x000001E88FA0AA48>, overall loss: -731.146484375\n",
      "Iteration: 189, named_losses: <zip object at 0x000001E89E7AE1C8>, overall loss: -725.9346923828125\n",
      "Iteration: 190, named_losses: <zip object at 0x000001E89E7C0948>, overall loss: -729.89404296875\n",
      "Iteration: 191, named_losses: <zip object at 0x000001E88FA0AA48>, overall loss: -725.776611328125\n",
      "Iteration: 192, named_losses: <zip object at 0x000001E89E7AE1C8>, overall loss: -730.2188110351562\n",
      "Iteration: 193, named_losses: <zip object at 0x000001E89E7C0948>, overall loss: -724.69482421875\n",
      "Iteration: 194, named_losses: <zip object at 0x000001E88FA0AA48>, overall loss: -729.8058471679688\n",
      "Iteration: 195, named_losses: <zip object at 0x000001E89E7AE1C8>, overall loss: -725.30517578125\n",
      "Iteration: 196, named_losses: <zip object at 0x000001E89E7C0948>, overall loss: -730.4862670898438\n",
      "Iteration: 197, named_losses: <zip object at 0x000001E88FA0AA48>, overall loss: -726.66650390625\n",
      "Iteration: 198, named_losses: <zip object at 0x000001E89E7AE1C8>, overall loss: -729.8050537109375\n",
      "Iteration: 199, named_losses: <zip object at 0x000001E89E7C0948>, overall loss: -726.9869384765625\n",
      "Iteration: 200, named_losses: <zip object at 0x000001E88FA0AA48>, overall loss: -729.744384765625\n"
     ]
    },
    {
     "data": {
      "text/plain": [
       "<matplotlib.image.AxesImage at 0x1e89e80fe10>"
      ]
     },
     "execution_count": 21,
     "metadata": {},
     "output_type": "execute_result"
    },
    {
     "data": {
      "image/png": "[encoded data removed]",
      "text/plain": [
       "<matplotlib.figure.Figure at 0x1e89d0cb400>"
      ]
     },
     "metadata": {},
     "output_type": "display_data"
    }
   ],
   "source": [
    "img = visualize_activation(model, layer_idx, filter_indices=filter_idx, input_range=(0., 1.), verbose=True)\n",
    "plt.imshow(img[..., 0])"
   ]
  }
 ],
 "metadata": {
  "kernelspec": {
   "display_name": "Python 3",
   "language": "python",
   "name": "python3"
  },
  "language_info": {
   "codemirror_mode": {
    "name": "ipython",
    "version": 3
   },
   "file_extension": ".py",
   "mimetype": "text/x-python",
   "name": "python",
   "nbconvert_exporter": "python",
   "pygments_lexer": "ipython3",
   "version": "3.6.4"
  }
 },
 "nbformat": 4,
 "nbformat_minor": 2
}
